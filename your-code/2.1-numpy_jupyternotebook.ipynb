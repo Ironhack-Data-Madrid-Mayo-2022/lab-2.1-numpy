{
 "cells": [
  {
   "cell_type": "markdown",
   "id": "92823083",
   "metadata": {},
   "source": [
    "1. Import the NUMPY package under the name np."
   ]
  },
  {
   "cell_type": "code",
   "execution_count": 1,
   "id": "81b98cc7",
   "metadata": {},
   "outputs": [],
   "source": [
    "import numpy as np"
   ]
  },
  {
   "cell_type": "markdown",
   "id": "9013eb9a",
   "metadata": {},
   "source": [
    "2. Print the NUMPY version and the configuration.\n"
   ]
  },
  {
   "cell_type": "code",
   "execution_count": 2,
   "id": "b1ab52b0",
   "metadata": {
    "scrolled": true
   },
   "outputs": [
    {
     "name": "stdout",
     "output_type": "stream",
     "text": [
      "openblas64__info:\n",
      "    libraries = ['openblas64_', 'openblas64_']\n",
      "    library_dirs = ['/usr/local/lib']\n",
      "    language = c\n",
      "    define_macros = [('HAVE_CBLAS', None), ('BLAS_SYMBOL_SUFFIX', '64_'), ('HAVE_BLAS_ILP64', None)]\n",
      "    runtime_library_dirs = ['/usr/local/lib']\n",
      "blas_ilp64_opt_info:\n",
      "    libraries = ['openblas64_', 'openblas64_']\n",
      "    library_dirs = ['/usr/local/lib']\n",
      "    language = c\n",
      "    define_macros = [('HAVE_CBLAS', None), ('BLAS_SYMBOL_SUFFIX', '64_'), ('HAVE_BLAS_ILP64', None)]\n",
      "    runtime_library_dirs = ['/usr/local/lib']\n",
      "openblas64__lapack_info:\n",
      "    libraries = ['openblas64_', 'openblas64_']\n",
      "    library_dirs = ['/usr/local/lib']\n",
      "    language = c\n",
      "    define_macros = [('HAVE_CBLAS', None), ('BLAS_SYMBOL_SUFFIX', '64_'), ('HAVE_BLAS_ILP64', None), ('HAVE_LAPACKE', None)]\n",
      "    runtime_library_dirs = ['/usr/local/lib']\n",
      "lapack_ilp64_opt_info:\n",
      "    libraries = ['openblas64_', 'openblas64_']\n",
      "    library_dirs = ['/usr/local/lib']\n",
      "    language = c\n",
      "    define_macros = [('HAVE_CBLAS', None), ('BLAS_SYMBOL_SUFFIX', '64_'), ('HAVE_BLAS_ILP64', None), ('HAVE_LAPACKE', None)]\n",
      "    runtime_library_dirs = ['/usr/local/lib']\n",
      "Supported SIMD extensions in this NumPy install:\n",
      "    baseline = SSE,SSE2,SSE3\n",
      "    found = SSSE3,SSE41,POPCNT,SSE42,AVX,F16C,FMA3,AVX2\n",
      "    not found = AVX512F,AVX512CD,AVX512_KNL,AVX512_KNM,AVX512_SKX,AVX512_CLX,AVX512_CNL,AVX512_ICL\n"
     ]
    }
   ],
   "source": [
    "np.show_config()"
   ]
  },
  {
   "cell_type": "code",
   "execution_count": 3,
   "id": "57215aa4",
   "metadata": {},
   "outputs": [
    {
     "data": {
      "text/plain": [
       "'1.22.4'"
      ]
     },
     "execution_count": 3,
     "metadata": {},
     "output_type": "execute_result"
    }
   ],
   "source": [
    "np.__version__"
   ]
  },
  {
   "cell_type": "markdown",
   "id": "ab772c72",
   "metadata": {},
   "source": [
    "\n",
    "3. Generate a 2x3x5 3-dimensional array with random values. Assign the array to variable \"a\"\n",
    "\n",
    "Challenge: there are at least three easy ways that use numpy to generate random arrays. How many ways can you find?\n"
   ]
  },
  {
   "cell_type": "code",
   "execution_count": 4,
   "id": "926123e7",
   "metadata": {},
   "outputs": [],
   "source": [
    "a = np.random.random((2,3,5))"
   ]
  },
  {
   "cell_type": "markdown",
   "id": "d5751c5e",
   "metadata": {},
   "source": [
    "4. Print a.\n",
    "\n",
    "\n",
    "\n"
   ]
  },
  {
   "cell_type": "code",
   "execution_count": 5,
   "id": "271d5a57",
   "metadata": {},
   "outputs": [
    {
     "data": {
      "text/plain": [
       "array([[[0.96796799, 0.74197195, 0.65121879, 0.83534034, 0.40441298],\n",
       "        [0.22244636, 0.95396931, 0.10023496, 0.58372989, 0.87365276],\n",
       "        [0.72059532, 0.81355187, 0.41787419, 0.45376086, 0.89152413]],\n",
       "\n",
       "       [[0.49906021, 0.2203296 , 0.28741006, 0.38444851, 0.01572305],\n",
       "        [0.47991763, 0.10588561, 0.77613417, 0.60344777, 0.82695176],\n",
       "        [0.40823092, 0.58380648, 0.37080771, 0.40378159, 0.15496559]]])"
      ]
     },
     "execution_count": 5,
     "metadata": {},
     "output_type": "execute_result"
    }
   ],
   "source": [
    "a"
   ]
  },
  {
   "cell_type": "markdown",
   "id": "34870fb1",
   "metadata": {},
   "source": [
    "\n",
    "5. Create a 5x2x3 3-dimensional array with all values equaling 1.\n",
    "Assign the array to variable \"b\"\n"
   ]
  },
  {
   "cell_type": "code",
   "execution_count": 6,
   "id": "7fcee01e",
   "metadata": {},
   "outputs": [],
   "source": [
    "b = np.ones((5,2,3))"
   ]
  },
  {
   "cell_type": "markdown",
   "id": "d8ae947a",
   "metadata": {},
   "source": [
    "6. Print b."
   ]
  },
  {
   "cell_type": "code",
   "execution_count": 7,
   "id": "00447a9d",
   "metadata": {},
   "outputs": [
    {
     "data": {
      "text/plain": [
       "array([[[1., 1., 1.],\n",
       "        [1., 1., 1.]],\n",
       "\n",
       "       [[1., 1., 1.],\n",
       "        [1., 1., 1.]],\n",
       "\n",
       "       [[1., 1., 1.],\n",
       "        [1., 1., 1.]],\n",
       "\n",
       "       [[1., 1., 1.],\n",
       "        [1., 1., 1.]],\n",
       "\n",
       "       [[1., 1., 1.],\n",
       "        [1., 1., 1.]]])"
      ]
     },
     "execution_count": 7,
     "metadata": {},
     "output_type": "execute_result"
    }
   ],
   "source": [
    "b"
   ]
  },
  {
   "cell_type": "markdown",
   "id": "95a942be",
   "metadata": {},
   "source": [
    "7. Do a and b have the same size? How do you prove that in Python code?"
   ]
  },
  {
   "cell_type": "code",
   "execution_count": 8,
   "id": "91c3b703",
   "metadata": {},
   "outputs": [
    {
     "data": {
      "text/plain": [
       "30"
      ]
     },
     "execution_count": 8,
     "metadata": {},
     "output_type": "execute_result"
    }
   ],
   "source": [
    "a.size"
   ]
  },
  {
   "cell_type": "code",
   "execution_count": 9,
   "id": "c46c09c0",
   "metadata": {},
   "outputs": [
    {
     "data": {
      "text/plain": [
       "30"
      ]
     },
     "execution_count": 9,
     "metadata": {},
     "output_type": "execute_result"
    }
   ],
   "source": [
    "b.size"
   ]
  },
  {
   "cell_type": "raw",
   "id": "152f4e64",
   "metadata": {},
   "source": [
    "The size is proven by the je "
   ]
  },
  {
   "cell_type": "markdown",
   "id": "c3e9ece9",
   "metadata": {},
   "source": [
    "8. Are you able to add a and b? Why or why not?"
   ]
  },
  {
   "cell_type": "code",
   "execution_count": 10,
   "id": "2d6686cf",
   "metadata": {},
   "outputs": [
    {
     "ename": "ValueError",
     "evalue": "operands could not be broadcast together with shapes (2,3,5) (5,2,3) ",
     "output_type": "error",
     "traceback": [
      "\u001b[0;31m---------------------------------------------------------------------------\u001b[0m",
      "\u001b[0;31mValueError\u001b[0m                                Traceback (most recent call last)",
      "Input \u001b[0;32mIn [10]\u001b[0m, in \u001b[0;36m<cell line: 1>\u001b[0;34m()\u001b[0m\n\u001b[0;32m----> 1\u001b[0m \u001b[43mnp\u001b[49m\u001b[38;5;241;43m.\u001b[39;49m\u001b[43marray\u001b[49m\u001b[43m(\u001b[49m\u001b[43ma\u001b[49m\u001b[43m)\u001b[49m\u001b[43m \u001b[49m\u001b[38;5;241;43m+\u001b[39;49m\u001b[43m \u001b[49m\u001b[43mnp\u001b[49m\u001b[38;5;241;43m.\u001b[39;49m\u001b[43marray\u001b[49m\u001b[43m(\u001b[49m\u001b[43mb\u001b[49m\u001b[43m)\u001b[49m\n",
      "\u001b[0;31mValueError\u001b[0m: operands could not be broadcast together with shapes (2,3,5) (5,2,3) "
     ]
    }
   ],
   "source": [
    "np.array(a) + np.array(b)"
   ]
  },
  {
   "cell_type": "markdown",
   "id": "bf83fb01",
   "metadata": {},
   "source": [
    "9. Transpose b so that it has the same structure of a (i.e. become a 2x3x5 array). Assign the transposed array to varialbe \"c\"."
   ]
  },
  {
   "cell_type": "code",
   "execution_count": 11,
   "id": "e64c2305",
   "metadata": {},
   "outputs": [],
   "source": [
    "c=b.reshape((2,3,5))"
   ]
  },
  {
   "cell_type": "code",
   "execution_count": 12,
   "id": "3c4f003b",
   "metadata": {},
   "outputs": [
    {
     "data": {
      "text/plain": [
       "array([[[1., 1., 1., 1., 1.],\n",
       "        [1., 1., 1., 1., 1.],\n",
       "        [1., 1., 1., 1., 1.]],\n",
       "\n",
       "       [[1., 1., 1., 1., 1.],\n",
       "        [1., 1., 1., 1., 1.],\n",
       "        [1., 1., 1., 1., 1.]]])"
      ]
     },
     "execution_count": 12,
     "metadata": {},
     "output_type": "execute_result"
    }
   ],
   "source": [
    "c"
   ]
  },
  {
   "cell_type": "code",
   "execution_count": 13,
   "id": "e8d29d4f",
   "metadata": {},
   "outputs": [
    {
     "data": {
      "text/plain": [
       "(2, 3, 5)"
      ]
     },
     "execution_count": 13,
     "metadata": {},
     "output_type": "execute_result"
    }
   ],
   "source": [
    "c.shape"
   ]
  },
  {
   "cell_type": "markdown",
   "id": "fb9be31f",
   "metadata": {},
   "source": [
    "10.  Try to add a and c. Now it should work. Assign the sum to varialbe \"d\". But why does it work now?"
   ]
  },
  {
   "cell_type": "code",
   "execution_count": 14,
   "id": "72931bc8",
   "metadata": {},
   "outputs": [],
   "source": [
    "d= a+c"
   ]
  },
  {
   "cell_type": "code",
   "execution_count": 15,
   "id": "f8f361ea",
   "metadata": {
    "scrolled": true
   },
   "outputs": [
    {
     "data": {
      "text/plain": [
       "array([[[1.96796799, 1.74197195, 1.65121879, 1.83534034, 1.40441298],\n",
       "        [1.22244636, 1.95396931, 1.10023496, 1.58372989, 1.87365276],\n",
       "        [1.72059532, 1.81355187, 1.41787419, 1.45376086, 1.89152413]],\n",
       "\n",
       "       [[1.49906021, 1.2203296 , 1.28741006, 1.38444851, 1.01572305],\n",
       "        [1.47991763, 1.10588561, 1.77613417, 1.60344777, 1.82695176],\n",
       "        [1.40823092, 1.58380648, 1.37080771, 1.40378159, 1.15496559]]])"
      ]
     },
     "execution_count": 15,
     "metadata": {},
     "output_type": "execute_result"
    }
   ],
   "source": [
    "d"
   ]
  },
  {
   "cell_type": "markdown",
   "id": "1997e58b",
   "metadata": {},
   "source": [
    "The sum of matrix is only possible when they have the same dimensions (2,3,5)"
   ]
  },
  {
   "cell_type": "markdown",
   "id": "2c1c27a5",
   "metadata": {},
   "source": [
    "---------------------------------------------------------------------------"
   ]
  },
  {
   "cell_type": "markdown",
   "id": "782eedf2",
   "metadata": {},
   "source": [
    "11. Print a and d. Notice the difference and relation of the two array in terms of the values? Explain."
   ]
  },
  {
   "cell_type": "code",
   "execution_count": 16,
   "id": "2905d437",
   "metadata": {
    "scrolled": true
   },
   "outputs": [
    {
     "data": {
      "text/plain": [
       "array([[[0.96796799, 0.74197195, 0.65121879, 0.83534034, 0.40441298],\n",
       "        [0.22244636, 0.95396931, 0.10023496, 0.58372989, 0.87365276],\n",
       "        [0.72059532, 0.81355187, 0.41787419, 0.45376086, 0.89152413]],\n",
       "\n",
       "       [[0.49906021, 0.2203296 , 0.28741006, 0.38444851, 0.01572305],\n",
       "        [0.47991763, 0.10588561, 0.77613417, 0.60344777, 0.82695176],\n",
       "        [0.40823092, 0.58380648, 0.37080771, 0.40378159, 0.15496559]]])"
      ]
     },
     "execution_count": 16,
     "metadata": {},
     "output_type": "execute_result"
    }
   ],
   "source": [
    "a"
   ]
  },
  {
   "cell_type": "code",
   "execution_count": 17,
   "id": "afdb139b",
   "metadata": {},
   "outputs": [
    {
     "data": {
      "text/plain": [
       "array([[[1.96796799, 1.74197195, 1.65121879, 1.83534034, 1.40441298],\n",
       "        [1.22244636, 1.95396931, 1.10023496, 1.58372989, 1.87365276],\n",
       "        [1.72059532, 1.81355187, 1.41787419, 1.45376086, 1.89152413]],\n",
       "\n",
       "       [[1.49906021, 1.2203296 , 1.28741006, 1.38444851, 1.01572305],\n",
       "        [1.47991763, 1.10588561, 1.77613417, 1.60344777, 1.82695176],\n",
       "        [1.40823092, 1.58380648, 1.37080771, 1.40378159, 1.15496559]]])"
      ]
     },
     "execution_count": 17,
     "metadata": {},
     "output_type": "execute_result"
    }
   ],
   "source": [
    "d"
   ]
  },
  {
   "cell_type": "markdown",
   "id": "de569e1a",
   "metadata": {},
   "source": [
    "The matrix d is the result of the sum of a and the ones matrix, so every value is \n",
    "\n",
    "d = 1 + a"
   ]
  },
  {
   "cell_type": "markdown",
   "id": "94a0f019",
   "metadata": {},
   "source": [
    "12. Multiply a and c. Assign the result to e."
   ]
  },
  {
   "cell_type": "code",
   "execution_count": 18,
   "id": "8109f45b",
   "metadata": {},
   "outputs": [],
   "source": [
    "e = a*c"
   ]
  },
  {
   "cell_type": "code",
   "execution_count": 19,
   "id": "267e9d86",
   "metadata": {},
   "outputs": [
    {
     "data": {
      "text/plain": [
       "array([[[0.96796799, 0.74197195, 0.65121879, 0.83534034, 0.40441298],\n",
       "        [0.22244636, 0.95396931, 0.10023496, 0.58372989, 0.87365276],\n",
       "        [0.72059532, 0.81355187, 0.41787419, 0.45376086, 0.89152413]],\n",
       "\n",
       "       [[0.49906021, 0.2203296 , 0.28741006, 0.38444851, 0.01572305],\n",
       "        [0.47991763, 0.10588561, 0.77613417, 0.60344777, 0.82695176],\n",
       "        [0.40823092, 0.58380648, 0.37080771, 0.40378159, 0.15496559]]])"
      ]
     },
     "execution_count": 19,
     "metadata": {},
     "output_type": "execute_result"
    }
   ],
   "source": [
    "e"
   ]
  },
  {
   "cell_type": "markdown",
   "id": "994852d8",
   "metadata": {},
   "source": [
    "13. Does e equal to a? Why or why not?"
   ]
  },
  {
   "cell_type": "code",
   "execution_count": 20,
   "id": "e9f065c8",
   "metadata": {},
   "outputs": [
    {
     "data": {
      "text/plain": [
       "array([[[ True,  True,  True,  True,  True],\n",
       "        [ True,  True,  True,  True,  True],\n",
       "        [ True,  True,  True,  True,  True]],\n",
       "\n",
       "       [[ True,  True,  True,  True,  True],\n",
       "        [ True,  True,  True,  True,  True],\n",
       "        [ True,  True,  True,  True,  True]]])"
      ]
     },
     "execution_count": 20,
     "metadata": {},
     "output_type": "execute_result"
    }
   ],
   "source": [
    "e==a"
   ]
  },
  {
   "cell_type": "markdown",
   "id": "8a7acaf8",
   "metadata": {},
   "source": [
    "a and e are iqual in values. e is the multiplication of a and the ones matrix"
   ]
  },
  {
   "cell_type": "markdown",
   "id": "03540ec1",
   "metadata": {},
   "source": [
    "-------------------------------------------------------------------------"
   ]
  },
  {
   "cell_type": "markdown",
   "id": "0b202040",
   "metadata": {},
   "source": [
    "14. Identify the max, min, and mean values in d. Assign those values to variables \"d_max\", \"d_min\", and \"d_mean\""
   ]
  },
  {
   "cell_type": "code",
   "execution_count": 21,
   "id": "9b4d9493",
   "metadata": {},
   "outputs": [],
   "source": [
    "d_max = d.max()\n",
    "d_min = d.min()\n",
    "d_mean = d.mean()"
   ]
  },
  {
   "cell_type": "code",
   "execution_count": 22,
   "id": "77706757",
   "metadata": {},
   "outputs": [
    {
     "name": "stdout",
     "output_type": "stream",
     "text": [
      "1.967967992818517\n",
      "1.015723054742954\n",
      "1.525105079334766\n"
     ]
    }
   ],
   "source": [
    "print(d_max)\n",
    "print(d_min)\n",
    "print(d_mean)"
   ]
  },
  {
   "cell_type": "markdown",
   "id": "292bde4f",
   "metadata": {},
   "source": [
    "15. Now we want to label the values in d. First create an empty array \"f\" with the same shape (i.e. 2x3x5) as d using `np.empty`."
   ]
  },
  {
   "cell_type": "code",
   "execution_count": 23,
   "id": "fd2e6360",
   "metadata": {},
   "outputs": [],
   "source": [
    "f = np.empty(shape=[2,3,5])"
   ]
  },
  {
   "cell_type": "code",
   "execution_count": 24,
   "id": "80b4663a",
   "metadata": {},
   "outputs": [
    {
     "name": "stdout",
     "output_type": "stream",
     "text": [
      "[[[0.96796799 0.74197195 0.65121879 0.83534034 0.40441298]\n",
      "  [0.22244636 0.95396931 0.10023496 0.58372989 0.87365276]\n",
      "  [0.72059532 0.81355187 0.41787419 0.45376086 0.89152413]]\n",
      "\n",
      " [[0.49906021 0.2203296  0.28741006 0.38444851 0.01572305]\n",
      "  [0.47991763 0.10588561 0.77613417 0.60344777 0.82695176]\n",
      "  [0.40823092 0.58380648 0.37080771 0.40378159 0.15496559]]]\n"
     ]
    }
   ],
   "source": [
    "print(f)"
   ]
  },
  {
   "cell_type": "markdown",
   "id": "03f46923",
   "metadata": {},
   "source": [
    "16. Populate the values in f. For each value in d, if it's larger than d_min but smaller than d_mean, assign 25 to the corresponding value in f.\n",
    "\n",
    "If a value in d is larger than d_mean but smaller than d_max, assign 75 to the corresponding value in f.\n",
    "\n",
    "If a value equals to d_mean, assign 50 to the corresponding value in f.\n",
    "\n",
    "Assign 0 to the corresponding value(s) in f for d_min in d.\n",
    "\n",
    "Assign 100 to the corresponding value(s) in f for d_max in d.\n",
    "\n",
    "In the end, f should have only the following values: 0, 25, 50, 75, and 100.\n",
    "Note: you don't have to use Numpy in this question.\n"
   ]
  },
  {
   "cell_type": "code",
   "execution_count": 25,
   "id": "c336d08b",
   "metadata": {},
   "outputs": [],
   "source": [
    "for fila in f:\n",
    "    for valor in fila:\n",
    "        for v in valor:\n",
    "            if d_mean < v < d_max:\n",
    "                v = 75\n",
    "            elif d_min < v < d_mean:\n",
    "                v = 25\n",
    "            elif v==d_mean:\n",
    "                v = 50\n",
    "            elif v==d_min:\n",
    "                v = 0\n",
    "            elif v==d_max:\n",
    "                v=100              "
   ]
  },
  {
   "cell_type": "code",
   "execution_count": 26,
   "id": "fbea4c8f",
   "metadata": {},
   "outputs": [
    {
     "data": {
      "text/plain": [
       "array([[[0.96796799, 0.74197195, 0.65121879, 0.83534034, 0.40441298],\n",
       "        [0.22244636, 0.95396931, 0.10023496, 0.58372989, 0.87365276],\n",
       "        [0.72059532, 0.81355187, 0.41787419, 0.45376086, 0.89152413]],\n",
       "\n",
       "       [[0.49906021, 0.2203296 , 0.28741006, 0.38444851, 0.01572305],\n",
       "        [0.47991763, 0.10588561, 0.77613417, 0.60344777, 0.82695176],\n",
       "        [0.40823092, 0.58380648, 0.37080771, 0.40378159, 0.15496559]]])"
      ]
     },
     "execution_count": 26,
     "metadata": {},
     "output_type": "execute_result"
    }
   ],
   "source": [
    "f"
   ]
  },
  {
   "cell_type": "markdown",
   "id": "6ca0f6f7",
   "metadata": {},
   "source": [
    "17. Print d and f. Do you have your expected f?\n",
    "For instance, if your d is:\n",
    "```\n",
    "array([[[1.85836099, 1.67064465, 1.62576044, 1.40243961, 1.88454931],\n",
    "        [1.75354326, 1.69403643, 1.36729252, 1.61415071, 1.12104981],\n",
    "        [1.72201435, 1.1862918 , 1.87078449, 1.7726778 , 1.88180042]],\n",
    "\n",
    "       [[1.44747908, 1.31673383, 1.02000951, 1.52218947, 1.97066381],\n",
    "        [1.79129243, 1.74983003, 1.96028037, 1.85166831, 1.65450881],\n",
    "        [1.18068344, 1.9587381 , 1.00656599, 1.93402165, 1.73514584]]])\n",
    "```\n",
    "\n",
    "Your f should be:\n",
    "```\n",
    "array([[[ 75.,  75.,  75.,  25.,  75.],\n",
    "        [ 75.,  75.,  25.,  25.,  25.],\n",
    "        [ 75.,  25.,  75.,  75.,  75.]],\n",
    "\n",
    "       [[ 25.,  25.,  25.,  25., 100.],\n",
    "        [ 75.,  75.,  75.,  75.,  75.],\n",
    "        [ 25.,  75.,   0.,  75.,  75.]]])\n",
    "\n",
    "```"
   ]
  },
  {
   "cell_type": "code",
   "execution_count": 27,
   "id": "d2980a8d",
   "metadata": {
    "scrolled": false
   },
   "outputs": [
    {
     "data": {
      "text/plain": [
       "array([[[1.96796799, 1.74197195, 1.65121879, 1.83534034, 1.40441298],\n",
       "        [1.22244636, 1.95396931, 1.10023496, 1.58372989, 1.87365276],\n",
       "        [1.72059532, 1.81355187, 1.41787419, 1.45376086, 1.89152413]],\n",
       "\n",
       "       [[1.49906021, 1.2203296 , 1.28741006, 1.38444851, 1.01572305],\n",
       "        [1.47991763, 1.10588561, 1.77613417, 1.60344777, 1.82695176],\n",
       "        [1.40823092, 1.58380648, 1.37080771, 1.40378159, 1.15496559]]])"
      ]
     },
     "execution_count": 27,
     "metadata": {},
     "output_type": "execute_result"
    }
   ],
   "source": [
    "d"
   ]
  },
  {
   "cell_type": "code",
   "execution_count": 28,
   "id": "29f9c23c",
   "metadata": {},
   "outputs": [
    {
     "data": {
      "text/plain": [
       "array([[[0.96796799, 0.74197195, 0.65121879, 0.83534034, 0.40441298],\n",
       "        [0.22244636, 0.95396931, 0.10023496, 0.58372989, 0.87365276],\n",
       "        [0.72059532, 0.81355187, 0.41787419, 0.45376086, 0.89152413]],\n",
       "\n",
       "       [[0.49906021, 0.2203296 , 0.28741006, 0.38444851, 0.01572305],\n",
       "        [0.47991763, 0.10588561, 0.77613417, 0.60344777, 0.82695176],\n",
       "        [0.40823092, 0.58380648, 0.37080771, 0.40378159, 0.15496559]]])"
      ]
     },
     "execution_count": 28,
     "metadata": {},
     "output_type": "execute_result"
    }
   ],
   "source": [
    "f"
   ]
  },
  {
   "cell_type": "markdown",
   "id": "88e4cc93",
   "metadata": {},
   "source": [
    "## Bonus\n",
    "18.instead of using numbers (i.e. 0, 25, 50, 75, and 100), how to use string values \n",
    "(\"A\", \"B\", \"C\", \"D\", and \"E\") to label the array elements? You are expecting the result to be:\n",
    "```\n",
    "array([[[ 'D',  'D',  'D',  'B',  'D'],\n",
    "        [ 'D',  'D',  'B',  'B',  'B'],\n",
    "        [ 'D',  'B',  'D',  'D',  'D']],\n",
    "\n",
    "\n",
    "       [[ 'B',  'B',  'B',  'B',  'E'],\n",
    "        [ 'D',  'D',  'D',  'D',  'D'],\n",
    "        [ 'B',  'D',   'A',  'D', 'D']]])\n",
    "```\n",
    "Again, you don't need Numpy in this question."
   ]
  },
  {
   "cell_type": "code",
   "execution_count": 29,
   "id": "be914544",
   "metadata": {},
   "outputs": [],
   "source": [
    "for fila in f:\n",
    "    for valor in fila:\n",
    "        for v in valor:\n",
    "            if d_mean < v < d_max:\n",
    "                v = 'A'\n",
    "            elif d_min < v < d_mean:\n",
    "                v = 'B'\n",
    "            elif v==d_mean:\n",
    "                v = 'C'\n",
    "            elif v==d_min:\n",
    "                v = 'D'\n",
    "            elif v==d_max:\n",
    "                v= 'E'      "
   ]
  },
  {
   "cell_type": "code",
   "execution_count": 30,
   "id": "5a3c1936",
   "metadata": {},
   "outputs": [
    {
     "data": {
      "text/plain": [
       "array([[[0.96796799, 0.74197195, 0.65121879, 0.83534034, 0.40441298],\n",
       "        [0.22244636, 0.95396931, 0.10023496, 0.58372989, 0.87365276],\n",
       "        [0.72059532, 0.81355187, 0.41787419, 0.45376086, 0.89152413]],\n",
       "\n",
       "       [[0.49906021, 0.2203296 , 0.28741006, 0.38444851, 0.01572305],\n",
       "        [0.47991763, 0.10588561, 0.77613417, 0.60344777, 0.82695176],\n",
       "        [0.40823092, 0.58380648, 0.37080771, 0.40378159, 0.15496559]]])"
      ]
     },
     "execution_count": 30,
     "metadata": {},
     "output_type": "execute_result"
    }
   ],
   "source": []
  }
 ],
 "metadata": {
  "kernelspec": {
   "display_name": "venv",
   "language": "python",
   "name": "venv"
  },
  "language_info": {
   "codemirror_mode": {
    "name": "ipython",
    "version": 3
   },
   "file_extension": ".py",
   "mimetype": "text/x-python",
   "name": "python",
   "nbconvert_exporter": "python",
   "pygments_lexer": "ipython3",
   "version": "3.9.12"
  }
 },
 "nbformat": 4,
 "nbformat_minor": 5
}
