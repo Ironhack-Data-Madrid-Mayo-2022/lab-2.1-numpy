{
 "cells": [
  {
   "cell_type": "code",
   "execution_count": 1,
   "id": "bdfd5b4d",
   "metadata": {},
   "outputs": [
    {
     "name": "stdout",
     "output_type": "stream",
     "text": [
      "Requirement already satisfied: numpy in c:\\users\\alexd\\downloads\\descargaanaconda\\lib\\site-packages (1.20.3)\n",
      "Note: you may need to restart the kernel to use updated packages.\n"
     ]
    }
   ],
   "source": [
    "#1. Import the NUMPY package under the name np.\n",
    "%pip install numpy\n",
    "import numpy as np"
   ]
  },
  {
   "cell_type": "code",
   "execution_count": 2,
   "id": "2c71fc9e",
   "metadata": {},
   "outputs": [
    {
     "name": "stdout",
     "output_type": "stream",
     "text": [
      "1.20.3\n",
      "blas_mkl_info:\n",
      "    libraries = ['mkl_rt']\n",
      "    library_dirs = ['C:/Users/alexd/Downloads/DescargaAnaconda\\\\Library\\\\lib']\n",
      "    define_macros = [('SCIPY_MKL_H', None), ('HAVE_CBLAS', None)]\n",
      "    include_dirs = ['C:/Users/alexd/Downloads/DescargaAnaconda\\\\Library\\\\include']\n",
      "blas_opt_info:\n",
      "    libraries = ['mkl_rt']\n",
      "    library_dirs = ['C:/Users/alexd/Downloads/DescargaAnaconda\\\\Library\\\\lib']\n",
      "    define_macros = [('SCIPY_MKL_H', None), ('HAVE_CBLAS', None)]\n",
      "    include_dirs = ['C:/Users/alexd/Downloads/DescargaAnaconda\\\\Library\\\\include']\n",
      "lapack_mkl_info:\n",
      "    libraries = ['mkl_rt']\n",
      "    library_dirs = ['C:/Users/alexd/Downloads/DescargaAnaconda\\\\Library\\\\lib']\n",
      "    define_macros = [('SCIPY_MKL_H', None), ('HAVE_CBLAS', None)]\n",
      "    include_dirs = ['C:/Users/alexd/Downloads/DescargaAnaconda\\\\Library\\\\include']\n",
      "lapack_opt_info:\n",
      "    libraries = ['mkl_rt']\n",
      "    library_dirs = ['C:/Users/alexd/Downloads/DescargaAnaconda\\\\Library\\\\lib']\n",
      "    define_macros = [('SCIPY_MKL_H', None), ('HAVE_CBLAS', None)]\n",
      "    include_dirs = ['C:/Users/alexd/Downloads/DescargaAnaconda\\\\Library\\\\include']\n",
      "None\n"
     ]
    }
   ],
   "source": [
    "#2. Print the NUMPY version and the configuration.\n",
    "\n",
    "\n",
    "print(np.__version__)\n",
    "print(np.show_config())\n"
   ]
  },
  {
   "cell_type": "code",
   "execution_count": 3,
   "id": "a05e1eaf",
   "metadata": {},
   "outputs": [],
   "source": [
    "#3. Generate a 2x3x5 3-dimensional array with random values. Assign the array to variable \"a\"\n",
    "# Challenge: there are at least three easy ways that use numpy to generate random arrays. How many ways can you find?\n",
    "\n",
    "\n",
    "a=np.random.random((2,3,5))\n"
   ]
  },
  {
   "cell_type": "code",
   "execution_count": 4,
   "id": "75420615",
   "metadata": {},
   "outputs": [
    {
     "data": {
      "text/plain": [
       "array([[[0.98349318, 0.39081549, 0.39495457, 0.66354012, 0.35549264],\n",
       "        [0.3431953 , 0.8985985 , 0.98009795, 0.73363821, 0.46582344],\n",
       "        [0.79059955, 0.08881731, 0.95633833, 0.99059743, 0.38536392]],\n",
       "\n",
       "       [[0.81124126, 0.77190976, 0.64098742, 0.85584239, 0.59998085],\n",
       "        [0.63480094, 0.21124504, 0.70146329, 0.18897125, 0.95623167],\n",
       "        [0.67646795, 0.15407412, 0.98190996, 0.55392822, 0.53395564]]])"
      ]
     },
     "execution_count": 4,
     "metadata": {},
     "output_type": "execute_result"
    }
   ],
   "source": [
    "#4. Print a.\n",
    "\n",
    "a\n",
    "\n"
   ]
  },
  {
   "cell_type": "code",
   "execution_count": 5,
   "id": "be750c94",
   "metadata": {},
   "outputs": [],
   "source": [
    "#5. Create a 5x2x3 3-dimensional array with all values equaling 1.\n",
    "#Assign the array to variable \"b\"\n",
    "\n",
    "\n",
    "b=np.ones([5,2,3])\n"
   ]
  },
  {
   "cell_type": "code",
   "execution_count": 6,
   "id": "e270e3ef",
   "metadata": {},
   "outputs": [
    {
     "data": {
      "text/plain": [
       "array([[[1., 1., 1.],\n",
       "        [1., 1., 1.]],\n",
       "\n",
       "       [[1., 1., 1.],\n",
       "        [1., 1., 1.]],\n",
       "\n",
       "       [[1., 1., 1.],\n",
       "        [1., 1., 1.]],\n",
       "\n",
       "       [[1., 1., 1.],\n",
       "        [1., 1., 1.]],\n",
       "\n",
       "       [[1., 1., 1.],\n",
       "        [1., 1., 1.]]])"
      ]
     },
     "execution_count": 6,
     "metadata": {},
     "output_type": "execute_result"
    }
   ],
   "source": [
    "#6. Print b.\n",
    "\n",
    "\n",
    "b\n"
   ]
  },
  {
   "cell_type": "code",
   "execution_count": 7,
   "id": "a9b4e12b",
   "metadata": {},
   "outputs": [
    {
     "name": "stdout",
     "output_type": "stream",
     "text": [
      "(2, 3, 5)\n",
      "(5, 2, 3)\n"
     ]
    }
   ],
   "source": [
    "#7. Do a and b have the same size? How do you prove that in Python code?\n",
    "\n",
    "# Respuesta: a y b no tienen la misma medida. Lo demostramos con la dimensión:\n",
    "print(a.shape)\n",
    "print(b.shape)\n",
    "\n"
   ]
  },
  {
   "cell_type": "code",
   "execution_count": 8,
   "id": "ab35f1b7",
   "metadata": {},
   "outputs": [
    {
     "ename": "ValueError",
     "evalue": "operands could not be broadcast together with shapes (2,3,5) (5,2,3) ",
     "output_type": "error",
     "traceback": [
      "\u001b[1;31m---------------------------------------------------------------------------\u001b[0m",
      "\u001b[1;31mValueError\u001b[0m                                Traceback (most recent call last)",
      "\u001b[1;32m~\\AppData\\Local\\Temp/ipykernel_19908/1387110219.py\u001b[0m in \u001b[0;36m<module>\u001b[1;34m\u001b[0m\n\u001b[0;32m      3\u001b[0m \u001b[1;33m\u001b[0m\u001b[0m\n\u001b[0;32m      4\u001b[0m \u001b[1;31m# Respuesta: no es posible porque no tienen las mismas dimensiones. Lo demuestro:\u001b[0m\u001b[1;33m\u001b[0m\u001b[1;33m\u001b[0m\u001b[0m\n\u001b[1;32m----> 5\u001b[1;33m \u001b[0mc\u001b[0m\u001b[1;33m=\u001b[0m\u001b[0ma\u001b[0m\u001b[1;33m+\u001b[0m\u001b[0mb\u001b[0m\u001b[1;33m\u001b[0m\u001b[1;33m\u001b[0m\u001b[0m\n\u001b[0m\u001b[0;32m      6\u001b[0m \u001b[0mc\u001b[0m\u001b[1;33m\u001b[0m\u001b[1;33m\u001b[0m\u001b[0m\n",
      "\u001b[1;31mValueError\u001b[0m: operands could not be broadcast together with shapes (2,3,5) (5,2,3) "
     ]
    }
   ],
   "source": [
    "#8. Are you able to add a and b? Why or why not?\n",
    "\n",
    "\n",
    "# Respuesta: no es posible porque no tienen las mismas dimensiones. Lo demuestro:\n",
    "c=a+b\n",
    "c\n"
   ]
  },
  {
   "cell_type": "code",
   "execution_count": 12,
   "id": "3f4a4109",
   "metadata": {
    "scrolled": true
   },
   "outputs": [
    {
     "name": "stdout",
     "output_type": "stream",
     "text": [
      "[[[1. 1. 1. 1. 1.]\n",
      "  [1. 1. 1. 1. 1.]\n",
      "  [1. 1. 1. 1. 1.]]\n",
      "\n",
      " [[1. 1. 1. 1. 1.]\n",
      "  [1. 1. 1. 1. 1.]\n",
      "  [1. 1. 1. 1. 1.]]]\n",
      "(2, 3, 5)\n"
     ]
    }
   ],
   "source": [
    "#9. Transpose b so that it has the same structure of a (i.e. become a 2x3x5 array). Assign the transposed array to varialbe \"c\".\n",
    "\n",
    "c=b.reshape(2,3,5)\n",
    "print(c)\n",
    "print(c.shape)\n",
    "\n"
   ]
  },
  {
   "cell_type": "code",
   "execution_count": 13,
   "id": "57525c89",
   "metadata": {},
   "outputs": [
    {
     "name": "stdout",
     "output_type": "stream",
     "text": [
      "[[[1.98349318 1.39081549 1.39495457 1.66354012 1.35549264]\n",
      "  [1.3431953  1.8985985  1.98009795 1.73363821 1.46582344]\n",
      "  [1.79059955 1.08881731 1.95633833 1.99059743 1.38536392]]\n",
      "\n",
      " [[1.81124126 1.77190976 1.64098742 1.85584239 1.59998085]\n",
      "  [1.63480094 1.21124504 1.70146329 1.18897125 1.95623167]\n",
      "  [1.67646795 1.15407412 1.98190996 1.55392822 1.53395564]]]\n"
     ]
    }
   ],
   "source": [
    "#10. Try to add a and c. Now it should work. Assign the sum to varialbe \"d\". But why does it work now?\n",
    "\n",
    "d=a+c\n",
    "print(d)\n",
    "\n"
   ]
  },
  {
   "cell_type": "code",
   "execution_count": 14,
   "id": "aae881c6",
   "metadata": {},
   "outputs": [
    {
     "name": "stdout",
     "output_type": "stream",
     "text": [
      "[[[0.98349318 0.39081549 0.39495457 0.66354012 0.35549264]\n",
      "  [0.3431953  0.8985985  0.98009795 0.73363821 0.46582344]\n",
      "  [0.79059955 0.08881731 0.95633833 0.99059743 0.38536392]]\n",
      "\n",
      " [[0.81124126 0.77190976 0.64098742 0.85584239 0.59998085]\n",
      "  [0.63480094 0.21124504 0.70146329 0.18897125 0.95623167]\n",
      "  [0.67646795 0.15407412 0.98190996 0.55392822 0.53395564]]]\n",
      "[[[1.98349318 1.39081549 1.39495457 1.66354012 1.35549264]\n",
      "  [1.3431953  1.8985985  1.98009795 1.73363821 1.46582344]\n",
      "  [1.79059955 1.08881731 1.95633833 1.99059743 1.38536392]]\n",
      "\n",
      " [[1.81124126 1.77190976 1.64098742 1.85584239 1.59998085]\n",
      "  [1.63480094 1.21124504 1.70146329 1.18897125 1.95623167]\n",
      "  [1.67646795 1.15407412 1.98190996 1.55392822 1.53395564]]]\n",
      "(2, 3, 5)\n"
     ]
    }
   ],
   "source": [
    "#11. Print a and d. Notice the difference and relation of the two array in terms of the values? Explain.\n",
    "\n",
    "\n",
    "print(a)\n",
    "print(d)\n",
    "print(d.shape)\n",
    "\n"
   ]
  },
  {
   "cell_type": "code",
   "execution_count": 15,
   "id": "f17d0379",
   "metadata": {},
   "outputs": [
    {
     "data": {
      "text/plain": [
       "array([[[0.98349318, 0.39081549, 0.39495457, 0.66354012, 0.35549264],\n",
       "        [0.3431953 , 0.8985985 , 0.98009795, 0.73363821, 0.46582344],\n",
       "        [0.79059955, 0.08881731, 0.95633833, 0.99059743, 0.38536392]],\n",
       "\n",
       "       [[0.81124126, 0.77190976, 0.64098742, 0.85584239, 0.59998085],\n",
       "        [0.63480094, 0.21124504, 0.70146329, 0.18897125, 0.95623167],\n",
       "        [0.67646795, 0.15407412, 0.98190996, 0.55392822, 0.53395564]]])"
      ]
     },
     "execution_count": 15,
     "metadata": {},
     "output_type": "execute_result"
    }
   ],
   "source": [
    "#12. Multiply a and c. Assign the result to e.\n",
    "\n",
    "e=a*c\n",
    "e\n"
   ]
  },
  {
   "cell_type": "code",
   "execution_count": 16,
   "id": "8ea435b5",
   "metadata": {},
   "outputs": [
    {
     "name": "stdout",
     "output_type": "stream",
     "text": [
      "True\n"
     ]
    }
   ],
   "source": [
    "#13. Does e equal to a? Why or why not?\n",
    "\n",
    "\n",
    "print((a == e ).all())\n",
    "\n",
    "#Porque multiplicas la matriz a por la matriz c y la matriz c es todo =1\n",
    "\n"
   ]
  },
  {
   "cell_type": "code",
   "execution_count": 17,
   "id": "07ebe7a1",
   "metadata": {},
   "outputs": [
    {
     "name": "stdout",
     "output_type": "stream",
     "text": [
      "1.9905974344090958\n",
      "1.0888173097753184\n",
      "1.6231458564794656\n"
     ]
    }
   ],
   "source": [
    "#14. Identify the max, min, and mean values in d. Assign those values to variables \"d_max\", \"d_min\", and \"d_mean\"\n",
    "\n",
    "\n",
    "d_max=d.max()\n",
    "d_min=d.min()\n",
    "d_mean=d.mean()\n",
    "\n",
    "print(d_max)\n",
    "print(d_min)\n",
    "print(d_mean)\n",
    "\n"
   ]
  },
  {
   "cell_type": "code",
   "execution_count": 18,
   "id": "6185a051",
   "metadata": {},
   "outputs": [
    {
     "data": {
      "text/plain": [
       "array([[[0.98349318, 0.39081549, 0.39495457, 0.66354012, 0.35549264],\n",
       "        [0.3431953 , 0.8985985 , 0.98009795, 0.73363821, 0.46582344],\n",
       "        [0.79059955, 0.08881731, 0.95633833, 0.99059743, 0.38536392]],\n",
       "\n",
       "       [[0.81124126, 0.77190976, 0.64098742, 0.85584239, 0.59998085],\n",
       "        [0.63480094, 0.21124504, 0.70146329, 0.18897125, 0.95623167],\n",
       "        [0.67646795, 0.15407412, 0.98190996, 0.55392822, 0.53395564]]])"
      ]
     },
     "execution_count": 18,
     "metadata": {},
     "output_type": "execute_result"
    }
   ],
   "source": [
    "#15. Now we want to label the values in d. First create an empty array \"f\" with the same shape (i.e. 2x3x5) as d using `np.empty`.\n",
    "\n",
    "\n",
    "f=np.empty((2,3,5))\n",
    "f\n",
    "\n"
   ]
  },
  {
   "cell_type": "code",
   "execution_count": 19,
   "id": "a7fb5976",
   "metadata": {},
   "outputs": [
    {
     "data": {
      "text/plain": [
       "array([[[ 75.,  25.,  25.,  75.,  25.],\n",
       "        [ 25.,  75.,  75.,  75.,  25.],\n",
       "        [ 75.,   0.,  75., 100.,  25.]],\n",
       "\n",
       "       [[ 75.,  75.,  75.,  75.,  25.],\n",
       "        [ 75.,  25.,  75.,  25.,  75.],\n",
       "        [ 75.,  25.,  75.,  25.,  25.]]])"
      ]
     },
     "execution_count": 19,
     "metadata": {},
     "output_type": "execute_result"
    }
   ],
   "source": [
    "\"\"\"\n",
    "#16. Populate the values in f. For each value in d, if it's larger than d_min but smaller than d_mean, assign 25 to the corresponding value in f.\n",
    "If a value in d is larger than d_mean but smaller than d_max, assign 75 to the corresponding value in f.\n",
    "If a value equals to d_mean, assign 50 to the corresponding value in f.\n",
    "Assign 0 to the corresponding value(s) in f for d_min in d.\n",
    "Assign 100 to the corresponding value(s) in f for d_max in d.\n",
    "In the end, f should have only the following values: 0, 25, 50, 75, and 100.\n",
    "Note: you don't have to use Numpy in this question.\n",
    "\"\"\"\n",
    "\n",
    "for array in range(d.shape[0]):\n",
    "    for subfila in range(d.shape[1]):\n",
    "        for e in range(d.shape[2]):\n",
    "            if d[array][subfila][e]> d_min and d[array][subfila][e]< d_mean:\n",
    "                f[array][subfila][e] =25\n",
    "            elif d[array][subfila][e]>d_mean and d[array][subfila][e]<d_max:\n",
    "                f[array][subfila][e] =75\n",
    "            elif d[array][subfila][e]== d_mean:\n",
    "                f[array][subfila][e] =50\n",
    "            elif d[array][subfila][e]==d_min:\n",
    "                f[array][subfila][e] =0\n",
    "            elif d[array][subfila][e]==d_max:\n",
    "                f[array][subfila][e] =100\n",
    "\n",
    "f\n",
    "    \n",
    "\n",
    "\n"
   ]
  },
  {
   "cell_type": "code",
   "execution_count": 20,
   "id": "4d384bfc",
   "metadata": {},
   "outputs": [
    {
     "name": "stdout",
     "output_type": "stream",
     "text": [
      "[[[1.98349318 1.39081549 1.39495457 1.66354012 1.35549264]\n",
      "  [1.3431953  1.8985985  1.98009795 1.73363821 1.46582344]\n",
      "  [1.79059955 1.08881731 1.95633833 1.99059743 1.38536392]]\n",
      "\n",
      " [[1.81124126 1.77190976 1.64098742 1.85584239 1.59998085]\n",
      "  [1.63480094 1.21124504 1.70146329 1.18897125 1.95623167]\n",
      "  [1.67646795 1.15407412 1.98190996 1.55392822 1.53395564]]]\n",
      "[[[ 75.  25.  25.  75.  25.]\n",
      "  [ 25.  75.  75.  75.  25.]\n",
      "  [ 75.   0.  75. 100.  25.]]\n",
      "\n",
      " [[ 75.  75.  75.  75.  25.]\n",
      "  [ 75.  25.  75.  25.  75.]\n",
      "  [ 75.  25.  75.  25.  25.]]]\n"
     ]
    }
   ],
   "source": [
    "\"\"\"\n",
    "#17. Print d and f. Do you have your expected f?\n",
    "For instance, if your d is:\n",
    "array([[[1.85836099, 1.67064465, 1.62576044, 1.40243961, 1.88454931],\n",
    "        [1.75354326, 1.69403643, 1.36729252, 1.61415071, 1.12104981],\n",
    "        [1.72201435, 1.1862918 , 1.87078449, 1.7726778 , 1.88180042]],\n",
    "\n",
    "       [[1.44747908, 1.31673383, 1.02000951, 1.52218947, 1.97066381],\n",
    "        [1.79129243, 1.74983003, 1.96028037, 1.85166831, 1.65450881],\n",
    "        [1.18068344, 1.9587381 , 1.00656599, 1.93402165, 1.73514584]]])\n",
    "\n",
    "Your f should be:\n",
    "array([[[ 75.,  75.,  75.,  25.,  75.],\n",
    "        [ 75.,  75.,  25.,  25.,  25.],\n",
    "        [ 75.,  25.,  75.,  75.,  75.]],\n",
    "\n",
    "       [[ 25.,  25.,  25.,  25., 100.],\n",
    "        [ 75.,  75.,  75.,  75.,  75.],\n",
    "        [ 25.,  75.,   0.,  75.,  75.]]])\n",
    "\"\"\"\n",
    "\n",
    "print(d)\n",
    "print(f)\n",
    "\n",
    "\n"
   ]
  },
  {
   "cell_type": "code",
   "execution_count": 28,
   "id": "a986390c",
   "metadata": {},
   "outputs": [
    {
     "data": {
      "text/plain": [
       "array([[['75.0', '25.0', '25.0', '75.0', '25.0'],\n",
       "        ['25.0', '75.0', '75.0', '75.0', '25.0'],\n",
       "        ['75.0', '0.0', '75.0', '100.0', '25.0']],\n",
       "\n",
       "       [['75.0', '75.0', '75.0', '75.0', '25.0'],\n",
       "        ['75.0', '25.0', '75.0', '25.0', '75.0'],\n",
       "        ['75.0', '25.0', '75.0', '25.0', '25.0']]], dtype='<U32')"
      ]
     },
     "execution_count": 28,
     "metadata": {},
     "output_type": "execute_result"
    }
   ],
   "source": [
    "\"\"\"\n",
    "#18. Bonus question: instead of using numbers (i.e. 0, 25, 50, 75, and 100), how to use string values \n",
    "(\"A\", \"B\", \"C\", \"D\", and \"E\") to label the array elements? You are expecting the result to be:\n",
    "array([[[ 'D',  'D',  'D',  'B',  'D'],\n",
    "        [ 'D',  'D',  'B',  'B',  'B'],\n",
    "        [ 'D',  'B',  'D',  'D',  'D']],\n",
    "\n",
    "       [[ 'B',  'B',  'B',  'B',  'E'],\n",
    "        [ 'D',  'D',  'D',  'D',  'D'],\n",
    "        [ 'B',  'D',   'A',  'D', 'D']]])\n",
    "Again, you don't need Numpy in this question.\n",
    "\"\"\"\n",
    "g = f.astype(str)\n",
    "g\n",
    "\n",
    "\n"
   ]
  },
  {
   "cell_type": "code",
   "execution_count": 32,
   "id": "2b913b8c",
   "metadata": {},
   "outputs": [],
   "source": [
    "\n",
    "g_new=np.empty((2,3,5))\n",
    "\n",
    "\n"
   ]
  },
  {
   "cell_type": "code",
   "execution_count": 33,
   "id": "3c7e35ad",
   "metadata": {},
   "outputs": [
    {
     "ename": "ValueError",
     "evalue": "could not convert string to float: 'D'",
     "output_type": "error",
     "traceback": [
      "\u001b[1;31m---------------------------------------------------------------------------\u001b[0m",
      "\u001b[1;31mValueError\u001b[0m                                Traceback (most recent call last)",
      "\u001b[1;32m~\\AppData\\Local\\Temp/ipykernel_19908/2527738537.py\u001b[0m in \u001b[0;36m<module>\u001b[1;34m\u001b[0m\n\u001b[0;32m      9\u001b[0m                 \u001b[0mg_new\u001b[0m\u001b[1;33m[\u001b[0m\u001b[0marray\u001b[0m\u001b[1;33m]\u001b[0m\u001b[1;33m[\u001b[0m\u001b[0msubfila\u001b[0m\u001b[1;33m]\u001b[0m\u001b[1;33m[\u001b[0m\u001b[0me\u001b[0m\u001b[1;33m]\u001b[0m \u001b[1;33m=\u001b[0m\u001b[1;34m\"C\"\u001b[0m\u001b[1;33m\u001b[0m\u001b[1;33m\u001b[0m\u001b[0m\n\u001b[0;32m     10\u001b[0m             \u001b[1;32melif\u001b[0m \u001b[0mg\u001b[0m\u001b[1;33m[\u001b[0m\u001b[0marray\u001b[0m\u001b[1;33m]\u001b[0m\u001b[1;33m[\u001b[0m\u001b[0msubfila\u001b[0m\u001b[1;33m]\u001b[0m\u001b[1;33m[\u001b[0m\u001b[0me\u001b[0m\u001b[1;33m]\u001b[0m\u001b[1;33m==\u001b[0m\u001b[1;34m'75.0'\u001b[0m\u001b[1;33m:\u001b[0m\u001b[1;33m\u001b[0m\u001b[1;33m\u001b[0m\u001b[0m\n\u001b[1;32m---> 11\u001b[1;33m                 \u001b[0mg_new\u001b[0m\u001b[1;33m[\u001b[0m\u001b[0marray\u001b[0m\u001b[1;33m]\u001b[0m\u001b[1;33m[\u001b[0m\u001b[0msubfila\u001b[0m\u001b[1;33m]\u001b[0m\u001b[1;33m[\u001b[0m\u001b[0me\u001b[0m\u001b[1;33m]\u001b[0m \u001b[1;33m=\u001b[0m \u001b[1;34m\"D\"\u001b[0m\u001b[1;33m\u001b[0m\u001b[1;33m\u001b[0m\u001b[0m\n\u001b[0m\u001b[0;32m     12\u001b[0m             \u001b[1;32melif\u001b[0m \u001b[0mg\u001b[0m\u001b[1;33m[\u001b[0m\u001b[0marray\u001b[0m\u001b[1;33m]\u001b[0m\u001b[1;33m[\u001b[0m\u001b[0msubfila\u001b[0m\u001b[1;33m]\u001b[0m\u001b[1;33m[\u001b[0m\u001b[0me\u001b[0m\u001b[1;33m]\u001b[0m\u001b[1;33m==\u001b[0m\u001b[1;34m'100.0'\u001b[0m\u001b[1;33m:\u001b[0m\u001b[1;33m\u001b[0m\u001b[1;33m\u001b[0m\u001b[0m\n\u001b[0;32m     13\u001b[0m                 \u001b[0mg_new\u001b[0m\u001b[1;33m[\u001b[0m\u001b[0marray\u001b[0m\u001b[1;33m]\u001b[0m\u001b[1;33m[\u001b[0m\u001b[0msubfila\u001b[0m\u001b[1;33m]\u001b[0m\u001b[1;33m[\u001b[0m\u001b[0me\u001b[0m\u001b[1;33m]\u001b[0m \u001b[1;33m=\u001b[0m\u001b[1;34m\"E\"\u001b[0m\u001b[1;33m\u001b[0m\u001b[1;33m\u001b[0m\u001b[0m\n",
      "\u001b[1;31mValueError\u001b[0m: could not convert string to float: 'D'"
     ]
    }
   ],
   "source": [
    "for array in range(g.shape[0]):\n",
    "    for subfila in range(g.shape[1]):\n",
    "        for e in range(g.shape[2]):\n",
    "            if g[array][subfila][e]=='0.0':\n",
    "                g_new[array][subfila][e] = \"A\"\n",
    "            elif g[array][subfila][e]=='25.0':\n",
    "                g_new[array][subfila][e] =\"B\"\n",
    "            elif g[array][subfila][e]== '50.0':\n",
    "                g_new[array][subfila][e] =\"C\"\n",
    "            elif g[array][subfila][e]=='75.0':\n",
    "                g_new[array][subfila][e] = \"D\"\n",
    "            elif g[array][subfila][e]=='100.0':\n",
    "                g_new[array][subfila][e] =\"E\"\n",
    "\n",
    "g_new"
   ]
  },
  {
   "cell_type": "code",
   "execution_count": null,
   "id": "ee699c5d",
   "metadata": {},
   "outputs": [],
   "source": []
  }
 ],
 "metadata": {
  "kernelspec": {
   "display_name": "Python 3 (ipykernel)",
   "language": "python",
   "name": "python3"
  },
  "language_info": {
   "codemirror_mode": {
    "name": "ipython",
    "version": 3
   },
   "file_extension": ".py",
   "mimetype": "text/x-python",
   "name": "python",
   "nbconvert_exporter": "python",
   "pygments_lexer": "ipython3",
   "version": "3.9.7"
  }
 },
 "nbformat": 4,
 "nbformat_minor": 5
}
