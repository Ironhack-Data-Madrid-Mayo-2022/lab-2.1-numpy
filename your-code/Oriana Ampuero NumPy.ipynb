{
 "cells": [
  {
   "cell_type": "code",
   "execution_count": 1,
   "id": "b3f80651",
   "metadata": {},
   "outputs": [],
   "source": [
    "#1. Import the NUMPY package under the name np."
   ]
  },
  {
   "cell_type": "code",
   "execution_count": 2,
   "id": "f40baf5f",
   "metadata": {},
   "outputs": [
    {
     "name": "stdout",
     "output_type": "stream",
     "text": [
      "Requirement already satisfied: numpy in c:\\users\\oriana ampuero\\anaconda3\\lib\\site-packages (1.20.3)\n"
     ]
    }
   ],
   "source": [
    "!pip install numpy\n",
    "import numpy as np"
   ]
  },
  {
   "cell_type": "code",
   "execution_count": 3,
   "id": "72e7838f",
   "metadata": {},
   "outputs": [],
   "source": [
    "#2. Print the NUMPY version and the configuration."
   ]
  },
  {
   "cell_type": "code",
   "execution_count": 4,
   "id": "241d63d2",
   "metadata": {},
   "outputs": [
    {
     "name": "stdout",
     "output_type": "stream",
     "text": [
      "1.20.3\n"
     ]
    }
   ],
   "source": [
    "print(np.__version__)"
   ]
  },
  {
   "cell_type": "code",
   "execution_count": 5,
   "id": "7526c1a2",
   "metadata": {},
   "outputs": [],
   "source": [
    "#3. Generate a 2x3x5 3-dimensional array with random values. Assign the array to variable \"a\"\n",
    "# Challenge: there are at least three easy ways that use numpy to generate random arrays. How many ways can you find?"
   ]
  },
  {
   "cell_type": "code",
   "execution_count": 6,
   "id": "a5739b20",
   "metadata": {},
   "outputs": [],
   "source": [
    "a = np.random.rand(2,3,5)"
   ]
  },
  {
   "cell_type": "code",
   "execution_count": 7,
   "id": "ea702839",
   "metadata": {},
   "outputs": [],
   "source": [
    "#4. Print a."
   ]
  },
  {
   "cell_type": "code",
   "execution_count": 8,
   "id": "ec69a14c",
   "metadata": {},
   "outputs": [
    {
     "name": "stdout",
     "output_type": "stream",
     "text": [
      "[[[0.72285122 0.20139109 0.85135568 0.37762812 0.94057223]\n",
      "  [0.46347207 0.75517946 0.20127103 0.47797392 0.83279431]\n",
      "  [0.14866641 0.8011476  0.21871432 0.36441722 0.56143742]]\n",
      "\n",
      " [[0.71022133 0.79109951 0.03199877 0.29091776 0.10874405]\n",
      "  [0.56280431 0.2186726  0.04384614 0.25163432 0.02443872]\n",
      "  [0.31980048 0.44675614 0.64951731 0.89020033 0.61590608]]]\n"
     ]
    }
   ],
   "source": [
    "print(a)"
   ]
  },
  {
   "cell_type": "code",
   "execution_count": 9,
   "id": "50f327db",
   "metadata": {},
   "outputs": [],
   "source": [
    "#5. Create a 5x2x3 3-dimensional array with all values equaling 1.\n",
    "#Assign the array to variable \"b\""
   ]
  },
  {
   "cell_type": "code",
   "execution_count": 10,
   "id": "70e7f489",
   "metadata": {},
   "outputs": [],
   "source": [
    "b = np.ones((5,2,3))"
   ]
  },
  {
   "cell_type": "code",
   "execution_count": 11,
   "id": "3fa10798",
   "metadata": {},
   "outputs": [],
   "source": [
    "#6. Print b."
   ]
  },
  {
   "cell_type": "code",
   "execution_count": 12,
   "id": "e527d047",
   "metadata": {},
   "outputs": [
    {
     "name": "stdout",
     "output_type": "stream",
     "text": [
      "[[[1. 1. 1.]\n",
      "  [1. 1. 1.]]\n",
      "\n",
      " [[1. 1. 1.]\n",
      "  [1. 1. 1.]]\n",
      "\n",
      " [[1. 1. 1.]\n",
      "  [1. 1. 1.]]\n",
      "\n",
      " [[1. 1. 1.]\n",
      "  [1. 1. 1.]]\n",
      "\n",
      " [[1. 1. 1.]\n",
      "  [1. 1. 1.]]]\n"
     ]
    }
   ],
   "source": [
    "print (b)"
   ]
  },
  {
   "cell_type": "code",
   "execution_count": 13,
   "id": "8b1109d2",
   "metadata": {},
   "outputs": [],
   "source": [
    "#7. Do a and b have the same size? How do you prove that in Python code?"
   ]
  },
  {
   "cell_type": "code",
   "execution_count": 14,
   "id": "680d08ba",
   "metadata": {},
   "outputs": [
    {
     "name": "stdout",
     "output_type": "stream",
     "text": [
      "30\n"
     ]
    }
   ],
   "source": [
    "a = np.array (a)\n",
    "print(np.size(a))"
   ]
  },
  {
   "cell_type": "code",
   "execution_count": 15,
   "id": "b705b5c0",
   "metadata": {},
   "outputs": [
    {
     "name": "stdout",
     "output_type": "stream",
     "text": [
      "30\n"
     ]
    }
   ],
   "source": [
    "b = np.array (b)\n",
    "print(np.size(b))"
   ]
  },
  {
   "cell_type": "code",
   "execution_count": 16,
   "id": "2db7971e",
   "metadata": {},
   "outputs": [
    {
     "name": "stdout",
     "output_type": "stream",
     "text": [
      "False\n"
     ]
    },
    {
     "name": "stderr",
     "output_type": "stream",
     "text": [
      "C:\\Users\\ORIANA~1\\AppData\\Local\\Temp/ipykernel_14072/1502103540.py:1: DeprecationWarning: elementwise comparison failed; this will raise an error in the future.\n",
      "  print(a==b)\n"
     ]
    }
   ],
   "source": [
    "print(a==b)"
   ]
  },
  {
   "cell_type": "code",
   "execution_count": 17,
   "id": "3b22ea6a",
   "metadata": {},
   "outputs": [],
   "source": [
    "#8. Are you able to add a and b? Why or why not?"
   ]
  },
  {
   "cell_type": "code",
   "execution_count": 18,
   "id": "d5e57dbc",
   "metadata": {},
   "outputs": [
    {
     "ename": "ValueError",
     "evalue": "operands could not be broadcast together with shapes (2,3,5) (5,2,3) ",
     "output_type": "error",
     "traceback": [
      "\u001b[1;31m---------------------------------------------------------------------------\u001b[0m",
      "\u001b[1;31mValueError\u001b[0m                                Traceback (most recent call last)",
      "\u001b[1;32mC:\\Users\\ORIANA~1\\AppData\\Local\\Temp/ipykernel_14072/674737731.py\u001b[0m in \u001b[0;36m<module>\u001b[1;34m\u001b[0m\n\u001b[1;32m----> 1\u001b[1;33m \u001b[0mc\u001b[0m \u001b[1;33m=\u001b[0m \u001b[0mnp\u001b[0m\u001b[1;33m.\u001b[0m\u001b[0madd\u001b[0m\u001b[1;33m(\u001b[0m\u001b[0ma\u001b[0m\u001b[1;33m,\u001b[0m \u001b[0mb\u001b[0m\u001b[1;33m)\u001b[0m\u001b[1;33m\u001b[0m\u001b[1;33m\u001b[0m\u001b[0m\n\u001b[0m\u001b[0;32m      2\u001b[0m \u001b[0mprint\u001b[0m\u001b[1;33m(\u001b[0m\u001b[0mc\u001b[0m\u001b[1;33m)\u001b[0m\u001b[1;33m\u001b[0m\u001b[1;33m\u001b[0m\u001b[0m\n",
      "\u001b[1;31mValueError\u001b[0m: operands could not be broadcast together with shapes (2,3,5) (5,2,3) "
     ]
    }
   ],
   "source": [
    "c = np.add(a, b)  \n",
    "print(c)  "
   ]
  },
  {
   "cell_type": "code",
   "execution_count": null,
   "id": "f08718ee",
   "metadata": {},
   "outputs": [],
   "source": [
    "#ERROR: los operandos no se pueden transmitir junto con las formas."
   ]
  },
  {
   "cell_type": "code",
   "execution_count": null,
   "id": "db7cf578",
   "metadata": {},
   "outputs": [],
   "source": []
  },
  {
   "cell_type": "code",
   "execution_count": null,
   "id": "c521c4ed",
   "metadata": {},
   "outputs": [],
   "source": [
    "#9. Transpose b so that it has the same structure of a (i.e. become a 2x3x5 array). Assign the transposed array to varialbe \"c\"."
   ]
  },
  {
   "cell_type": "code",
   "execution_count": 19,
   "id": "8f00fcef",
   "metadata": {},
   "outputs": [
    {
     "name": "stdout",
     "output_type": "stream",
     "text": [
      "[[[1. 1. 1. 1. 1.]\n",
      "  [1. 1. 1. 1. 1.]\n",
      "  [1. 1. 1. 1. 1.]]\n",
      "\n",
      " [[1. 1. 1. 1. 1.]\n",
      "  [1. 1. 1. 1. 1.]\n",
      "  [1. 1. 1. 1. 1.]]]\n",
      "(2, 3, 5)\n"
     ]
    }
   ],
   "source": [
    "c=b.reshape(2,3,5)\n",
    "print(c)\n",
    "print(np.shape(c))"
   ]
  },
  {
   "cell_type": "code",
   "execution_count": null,
   "id": "bf317474",
   "metadata": {},
   "outputs": [],
   "source": [
    "#10. Try to add a and c. Now it should work. Assign the sum to varialbe \"d\". But why does it work now?"
   ]
  },
  {
   "cell_type": "code",
   "execution_count": 20,
   "id": "7f66e7c4",
   "metadata": {},
   "outputs": [
    {
     "name": "stdout",
     "output_type": "stream",
     "text": [
      "[[[1.72285122 1.20139109 1.85135568 1.37762812 1.94057223]\n",
      "  [1.46347207 1.75517946 1.20127103 1.47797392 1.83279431]\n",
      "  [1.14866641 1.8011476  1.21871432 1.36441722 1.56143742]]\n",
      "\n",
      " [[1.71022133 1.79109951 1.03199877 1.29091776 1.10874405]\n",
      "  [1.56280431 1.2186726  1.04384614 1.25163432 1.02443872]\n",
      "  [1.31980048 1.44675614 1.64951731 1.89020033 1.61590608]]]\n"
     ]
    }
   ],
   "source": [
    "d=a+c\n",
    "print(d)"
   ]
  },
  {
   "cell_type": "code",
   "execution_count": null,
   "id": "a16b3b3b",
   "metadata": {},
   "outputs": [],
   "source": [
    "#11. Print a and d. Notice the difference and relation of the two array in terms of the values? Explain."
   ]
  },
  {
   "cell_type": "code",
   "execution_count": 21,
   "id": "79dbe5a1",
   "metadata": {},
   "outputs": [
    {
     "name": "stdout",
     "output_type": "stream",
     "text": [
      "[[[0.72285122 0.20139109 0.85135568 0.37762812 0.94057223]\n",
      "  [0.46347207 0.75517946 0.20127103 0.47797392 0.83279431]\n",
      "  [0.14866641 0.8011476  0.21871432 0.36441722 0.56143742]]\n",
      "\n",
      " [[0.71022133 0.79109951 0.03199877 0.29091776 0.10874405]\n",
      "  [0.56280431 0.2186726  0.04384614 0.25163432 0.02443872]\n",
      "  [0.31980048 0.44675614 0.64951731 0.89020033 0.61590608]]]\n"
     ]
    }
   ],
   "source": [
    "print(a)"
   ]
  },
  {
   "cell_type": "code",
   "execution_count": 22,
   "id": "db8c326d",
   "metadata": {},
   "outputs": [
    {
     "name": "stdout",
     "output_type": "stream",
     "text": [
      "[[[1.72285122 1.20139109 1.85135568 1.37762812 1.94057223]\n",
      "  [1.46347207 1.75517946 1.20127103 1.47797392 1.83279431]\n",
      "  [1.14866641 1.8011476  1.21871432 1.36441722 1.56143742]]\n",
      "\n",
      " [[1.71022133 1.79109951 1.03199877 1.29091776 1.10874405]\n",
      "  [1.56280431 1.2186726  1.04384614 1.25163432 1.02443872]\n",
      "  [1.31980048 1.44675614 1.64951731 1.89020033 1.61590608]]]\n"
     ]
    }
   ],
   "source": [
    "print(d)"
   ]
  },
  {
   "cell_type": "code",
   "execution_count": null,
   "id": "586c75d5",
   "metadata": {},
   "outputs": [],
   "source": [
    "se sumaron los 1 de la matriz b a los valores de la matriz a para crear la nueva matriz"
   ]
  },
  {
   "cell_type": "code",
   "execution_count": null,
   "id": "16d26a60",
   "metadata": {},
   "outputs": [],
   "source": [
    "#12. Multiply a and c. Assign the result to e."
   ]
  },
  {
   "cell_type": "code",
   "execution_count": 23,
   "id": "7c13733e",
   "metadata": {},
   "outputs": [
    {
     "ename": "ValueError",
     "evalue": "shapes (2,3,5) and (2,3,5) not aligned: 5 (dim 2) != 3 (dim 1)",
     "output_type": "error",
     "traceback": [
      "\u001b[1;31m---------------------------------------------------------------------------\u001b[0m",
      "\u001b[1;31mValueError\u001b[0m                                Traceback (most recent call last)",
      "\u001b[1;32mC:\\Users\\ORIANA~1\\AppData\\Local\\Temp/ipykernel_14072/2155354972.py\u001b[0m in \u001b[0;36m<module>\u001b[1;34m\u001b[0m\n\u001b[1;32m----> 1\u001b[1;33m \u001b[0me\u001b[0m\u001b[1;33m=\u001b[0m\u001b[0mnp\u001b[0m\u001b[1;33m.\u001b[0m\u001b[0mdot\u001b[0m\u001b[1;33m(\u001b[0m\u001b[0ma\u001b[0m\u001b[1;33m,\u001b[0m\u001b[0mc\u001b[0m\u001b[1;33m)\u001b[0m\u001b[1;33m\u001b[0m\u001b[1;33m\u001b[0m\u001b[0m\n\u001b[0m",
      "\u001b[1;32m<__array_function__ internals>\u001b[0m in \u001b[0;36mdot\u001b[1;34m(*args, **kwargs)\u001b[0m\n",
      "\u001b[1;31mValueError\u001b[0m: shapes (2,3,5) and (2,3,5) not aligned: 5 (dim 2) != 3 (dim 1)"
     ]
    }
   ],
   "source": [
    "e=np.dot(a,c)"
   ]
  },
  {
   "cell_type": "code",
   "execution_count": null,
   "id": "ac02f37e",
   "metadata": {},
   "outputs": [],
   "source": [
    "#14. Identify the max, min, and mean values in d. Assign those values to variables \"d_max\", \"d_min\", and \"d_mean\""
   ]
  },
  {
   "cell_type": "code",
   "execution_count": 24,
   "id": "13d4e298",
   "metadata": {},
   "outputs": [
    {
     "data": {
      "text/plain": [
       "1.9405722338094304"
      ]
     },
     "execution_count": 24,
     "metadata": {},
     "output_type": "execute_result"
    }
   ],
   "source": [
    "d_max=d.max()\n",
    "d_max"
   ]
  },
  {
   "cell_type": "code",
   "execution_count": 25,
   "id": "e63e065f",
   "metadata": {},
   "outputs": [
    {
     "data": {
      "text/plain": [
       "1.0244387237645434"
      ]
     },
     "execution_count": 25,
     "metadata": {},
     "output_type": "execute_result"
    }
   ],
   "source": [
    "d_min=d.min()\n",
    "d_min"
   ]
  },
  {
   "cell_type": "code",
   "execution_count": 26,
   "id": "eefd9f9f",
   "metadata": {},
   "outputs": [
    {
     "data": {
      "text/plain": [
       "1.4625143317833802"
      ]
     },
     "execution_count": 26,
     "metadata": {},
     "output_type": "execute_result"
    }
   ],
   "source": [
    "d_mean=d.mean()\n",
    "d_mean"
   ]
  },
  {
   "cell_type": "code",
   "execution_count": null,
   "id": "6fafb641",
   "metadata": {},
   "outputs": [],
   "source": [
    "#15. Now we want to label the values in d. First create an empty array \"f\" with the same shape (i.e. 2x3x5) as d using `np.empty`."
   ]
  },
  {
   "cell_type": "code",
   "execution_count": 42,
   "id": "f7e4f471",
   "metadata": {},
   "outputs": [
    {
     "name": "stdout",
     "output_type": "stream",
     "text": [
      "[[[1.72285122 1.20139109 1.85135568 1.37762812 1.94057223]\n",
      "  [1.46347207 1.75517946 1.20127103 1.47797392 1.83279431]\n",
      "  [1.14866641 1.8011476  1.21871432 1.36441722 1.56143742]]\n",
      "\n",
      " [[1.71022133 1.79109951 1.03199877 1.29091776 1.10874405]\n",
      "  [1.56280431 1.2186726  1.04384614 1.25163432 1.02443872]\n",
      "  [1.31980048 1.44675614 1.64951731 1.89020033 1.61590608]]]\n"
     ]
    }
   ],
   "source": [
    "f = np.empty((2,3,5))\n",
    "print(f)"
   ]
  },
  {
   "cell_type": "code",
   "execution_count": 43,
   "id": "046460ed",
   "metadata": {},
   "outputs": [
    {
     "data": {
      "text/plain": [
       "array([[[ 75.,  25.,  75.,  25., 100.],\n",
       "        [ 75.,  75.,  25.,  75.,  75.],\n",
       "        [ 25.,  75.,  25.,  25.,  75.]],\n",
       "\n",
       "       [[ 75.,  75.,  25.,  25.,  25.],\n",
       "        [ 75.,  25.,  25.,  25.,   0.],\n",
       "        [ 25.,  25.,  75.,  75.,  75.]]])"
      ]
     },
     "execution_count": 43,
     "metadata": {},
     "output_type": "execute_result"
    }
   ],
   "source": [
    "\"\"\"\n",
    "#16. Populate the values in f. For each value in d, if it's larger than d_min but smaller than d_mean, assign 25 to the corresponding value in f.\n",
    "If a value in d is larger than d_mean but smaller than d_max, assign 75 to the corresponding value in f.\n",
    "If a value equals to d_mean, assign 50 to the corresponding value in f.\n",
    "Assign 0 to the corresponding value(s) in f for d_min in d.\n",
    "Assign 100 to the corresponding value(s) in f for d_max in d.\n",
    "In the end, f should have only the following values: 0, 25, 50, 75, and 100.\n",
    "Note: you don't have to use Numpy in this question.\n",
    "\n",
    "\"\"\"\n",
    "\n",
    "for i in range(len(d)):\n",
    "    for j in range(len(d[i])):\n",
    "        for k in range(len(d[i][j])):\n",
    "            if d_mean < d[i][j][k] < d_max:\n",
    "                f[i][j][k] = 75\n",
    "            elif d_min < d[i][j][k] < d_mean:\n",
    "                f[i][j][k] = 25\n",
    "            elif d[i][j][k] == d_mean:\n",
    "                f[i][j][k] = 50\n",
    "            elif d[i][j][k] == d_min:\n",
    "                f[i][j][k] = 0\n",
    "            elif d[i][j][k] == d_max:\n",
    "                f[i][j][k] = 100\n",
    "                \n",
    "f\n"
   ]
  },
  {
   "cell_type": "code",
   "execution_count": null,
   "id": "7997d98a",
   "metadata": {},
   "outputs": [],
   "source": [
    "\"\"\"\n",
    "#17. Print d and f. Do you have your expected f?\n",
    "For instance, if your d is:\n",
    "array([[[1.85836099, 1.67064465, 1.62576044, 1.40243961, 1.88454931],\n",
    "        [1.75354326, 1.69403643, 1.36729252, 1.61415071, 1.12104981],\n",
    "        [1.72201435, 1.1862918 , 1.87078449, 1.7726778 , 1.88180042]],\n",
    "\n",
    "       [[1.44747908, 1.31673383, 1.02000951, 1.52218947, 1.97066381],\n",
    "        [1.79129243, 1.74983003, 1.96028037, 1.85166831, 1.65450881],\n",
    "        [1.18068344, 1.9587381 , 1.00656599, 1.93402165, 1.73514584]]])\n",
    "\n",
    "Your f should be:\n",
    "array([[[ 75.,  75.,  75.,  25.,  75.],\n",
    "        [ 75.,  75.,  25.,  25.,  25.],\n",
    "        [ 75.,  25.,  75.,  75.,  75.]],\n",
    "\n",
    "       [[ 25.,  25.,  25.,  25., 100.],\n",
    "        [ 75.,  75.,  75.,  75.,  75.],\n",
    "        [ 25.,  75.,   0.,  75.,  75.]]])\n",
    "\"\"\"\n"
   ]
  },
  {
   "cell_type": "code",
   "execution_count": 44,
   "id": "eeefcc37",
   "metadata": {},
   "outputs": [
    {
     "name": "stdout",
     "output_type": "stream",
     "text": [
      "[[[1.72285122 1.20139109 1.85135568 1.37762812 1.94057223]\n",
      "  [1.46347207 1.75517946 1.20127103 1.47797392 1.83279431]\n",
      "  [1.14866641 1.8011476  1.21871432 1.36441722 1.56143742]]\n",
      "\n",
      " [[1.71022133 1.79109951 1.03199877 1.29091776 1.10874405]\n",
      "  [1.56280431 1.2186726  1.04384614 1.25163432 1.02443872]\n",
      "  [1.31980048 1.44675614 1.64951731 1.89020033 1.61590608]]]\n"
     ]
    }
   ],
   "source": [
    "print(d)"
   ]
  },
  {
   "cell_type": "code",
   "execution_count": 45,
   "id": "d22e47f5",
   "metadata": {},
   "outputs": [
    {
     "name": "stdout",
     "output_type": "stream",
     "text": [
      "[[[ 75.  25.  75.  25. 100.]\n",
      "  [ 75.  75.  25.  75.  75.]\n",
      "  [ 25.  75.  25.  25.  75.]]\n",
      "\n",
      " [[ 75.  75.  25.  25.  25.]\n",
      "  [ 75.  25.  25.  25.   0.]\n",
      "  [ 25.  25.  75.  75.  75.]]]\n"
     ]
    }
   ],
   "source": [
    "print(f)"
   ]
  },
  {
   "cell_type": "code",
   "execution_count": null,
   "id": "d2d18337",
   "metadata": {},
   "outputs": [],
   "source": [
    "\"\"\"\n",
    "#18. Bonus question: instead of using numbers (i.e. 0, 25, 50, 75, and 100), how to use string values \n",
    "(\"A\", \"B\", \"C\", \"D\", and \"E\") to label the array elements? You are expecting the result to be:\n",
    "array([[[ 'D',  'D',  'D',  'B',  'D'],\n",
    "        [ 'D',  'D',  'B',  'B',  'B'],\n",
    "        [ 'D',  'B',  'D',  'D',  'D']],\n",
    "\n",
    "       [[ 'B',  'B',  'B',  'B',  'E'],\n",
    "        [ 'D',  'D',  'D',  'D',  'D'],\n",
    "        [ 'B',  'D',   'A',  'D', 'D']]])\n",
    "Again, you don't need Numpy in this question.\n",
    "\"\"\""
   ]
  },
  {
   "cell_type": "code",
   "execution_count": null,
   "id": "cf5ac5b8",
   "metadata": {},
   "outputs": [],
   "source": []
  },
  {
   "cell_type": "code",
   "execution_count": null,
   "id": "2ce2b40d",
   "metadata": {},
   "outputs": [],
   "source": []
  },
  {
   "cell_type": "code",
   "execution_count": null,
   "id": "41abdb1a",
   "metadata": {},
   "outputs": [],
   "source": []
  }
 ],
 "metadata": {
  "kernelspec": {
   "display_name": "Python 3 (ipykernel)",
   "language": "python",
   "name": "python3"
  },
  "language_info": {
   "codemirror_mode": {
    "name": "ipython",
    "version": 3
   },
   "file_extension": ".py",
   "mimetype": "text/x-python",
   "name": "python",
   "nbconvert_exporter": "python",
   "pygments_lexer": "ipython3",
   "version": "3.9.7"
  }
 },
 "nbformat": 4,
 "nbformat_minor": 5
}
