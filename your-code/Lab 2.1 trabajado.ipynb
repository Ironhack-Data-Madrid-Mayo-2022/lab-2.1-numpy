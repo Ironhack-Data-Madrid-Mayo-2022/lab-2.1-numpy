{
 "cells": [
  {
   "cell_type": "code",
   "execution_count": 3,
   "id": "9b6a4fe8",
   "metadata": {},
   "outputs": [
    {
     "name": "stdout",
     "output_type": "stream",
     "text": [
      "Collecting numpyNote: you may need to restart the kernel to use updated packages.\n",
      "  Using cached numpy-1.22.4-cp38-cp38-win_amd64.whl (14.8 MB)\n",
      "Installing collected packages: numpy\n",
      "Successfully installed numpy-1.22.4\n",
      "\n"
     ]
    }
   ],
   "source": [
    "%pip install numpy"
   ]
  },
  {
   "cell_type": "code",
   "execution_count": 16,
   "id": "499a8a59",
   "metadata": {},
   "outputs": [],
   "source": [
    "import numpy as np\n"
   ]
  },
  {
   "cell_type": "markdown",
   "id": "357e133d",
   "metadata": {},
   "source": [
    "Generate a 2x3x5 3-dimensional array with random values. Assign the array to variable \"a\"\n",
    "Challenge: there are at least three easy ways that use numpy to generate random arrays. How many ways can you find?"
   ]
  },
  {
   "cell_type": "code",
   "execution_count": 17,
   "id": "50cfe72a",
   "metadata": {},
   "outputs": [],
   "source": [
    "a=np.random.random((2,3,5))"
   ]
  },
  {
   "cell_type": "code",
   "execution_count": 18,
   "id": "8998eacf",
   "metadata": {
    "scrolled": false
   },
   "outputs": [
    {
     "data": {
      "text/plain": [
       "array([[[0.56457785, 0.06990637, 0.87150337, 0.9434349 , 0.35545132],\n",
       "        [0.04944452, 0.88417304, 0.87780775, 0.60052069, 0.60098523],\n",
       "        [0.78499745, 0.05228076, 0.81801644, 0.5448285 , 0.36790447]],\n",
       "\n",
       "       [[0.85729512, 0.80656854, 0.70111156, 0.70768835, 0.34415386],\n",
       "        [0.23266503, 0.95932474, 0.53515802, 0.57938362, 0.84888567],\n",
       "        [0.81534694, 0.41481865, 0.70052343, 0.75097424, 0.83843737]]])"
      ]
     },
     "execution_count": 18,
     "metadata": {},
     "output_type": "execute_result"
    }
   ],
   "source": [
    "a"
   ]
  },
  {
   "cell_type": "markdown",
   "id": "5c6057f9",
   "metadata": {},
   "source": [
    "5. Create a 5x2x3 3-dimensional array with all values equaling 1.\n",
    "Assign the array to variable \"b\"\n",
    "6. Print b.\n",
    "\n",
    "7. Do a and b have the same size? How do you prove that in Python code?\n",
    "\n",
    "8. Are you able to add a and b? Why or why not?"
   ]
  },
  {
   "cell_type": "code",
   "execution_count": 19,
   "id": "a326c011",
   "metadata": {
    "scrolled": true
   },
   "outputs": [],
   "source": [
    "b=np.ones((5,2,3))\n"
   ]
  },
  {
   "cell_type": "code",
   "execution_count": 20,
   "id": "74d2854e",
   "metadata": {
    "scrolled": true
   },
   "outputs": [
    {
     "data": {
      "text/plain": [
       "array([[[1., 1., 1.],\n",
       "        [1., 1., 1.]],\n",
       "\n",
       "       [[1., 1., 1.],\n",
       "        [1., 1., 1.]],\n",
       "\n",
       "       [[1., 1., 1.],\n",
       "        [1., 1., 1.]],\n",
       "\n",
       "       [[1., 1., 1.],\n",
       "        [1., 1., 1.]],\n",
       "\n",
       "       [[1., 1., 1.],\n",
       "        [1., 1., 1.]]])"
      ]
     },
     "execution_count": 20,
     "metadata": {},
     "output_type": "execute_result"
    }
   ],
   "source": [
    "b"
   ]
  },
  {
   "cell_type": "code",
   "execution_count": 21,
   "id": "e6e6393b",
   "metadata": {
    "scrolled": true
   },
   "outputs": [
    {
     "name": "stdout",
     "output_type": "stream",
     "text": [
      "False\n"
     ]
    },
    {
     "name": "stderr",
     "output_type": "stream",
     "text": [
      "C:\\Users\\javip\\AppData\\Local\\Temp\\ipykernel_2204\\1776171489.py:1: DeprecationWarning: elementwise comparison failed; this will raise an error in the future.\n",
      "  print(a == b)\n"
     ]
    }
   ],
   "source": [
    "print(a == b)"
   ]
  },
  {
   "cell_type": "code",
   "execution_count": 22,
   "id": "0f00c5c3",
   "metadata": {},
   "outputs": [
    {
     "ename": "SyntaxError",
     "evalue": "invalid syntax (2017955093.py, line 1)",
     "output_type": "error",
     "traceback": [
      "\u001b[1;36m  Input \u001b[1;32mIn [22]\u001b[1;36m\u001b[0m\n\u001b[1;33m    False, no tienen el mismo tamaño\u001b[0m\n\u001b[1;37m              ^\u001b[0m\n\u001b[1;31mSyntaxError\u001b[0m\u001b[1;31m:\u001b[0m invalid syntax\n"
     ]
    }
   ],
   "source": [
    "False, no tienen el mismo tamaño"
   ]
  },
  {
   "cell_type": "markdown",
   "id": "c9a4ad7c",
   "metadata": {},
   "source": [
    "9. Transpose b so that it has the same structure of a (i.e. become a 2x3x5 array). Assign the transposed array to varialbe \"c\".\n",
    "\n",
    "\n",
    "\n",
    "10. Try to add a and c. Now it should work. Assign the sum to varialbe \"d\". But why does it work now?\n",
    "\n",
    "\n",
    "\n",
    "11. Print a and d. Notice the difference and relation of the two array in terms of the values? Explain."
   ]
  },
  {
   "cell_type": "code",
   "execution_count": 23,
   "id": "dcf605e4",
   "metadata": {},
   "outputs": [
    {
     "data": {
      "text/plain": [
       "array([[[1., 1., 1., 1., 1.],\n",
       "        [1., 1., 1., 1., 1.],\n",
       "        [1., 1., 1., 1., 1.]],\n",
       "\n",
       "       [[1., 1., 1., 1., 1.],\n",
       "        [1., 1., 1., 1., 1.],\n",
       "        [1., 1., 1., 1., 1.]]])"
      ]
     },
     "execution_count": 23,
     "metadata": {},
     "output_type": "execute_result"
    }
   ],
   "source": [
    "c = b.reshape(2,3,5)\n",
    "c"
   ]
  },
  {
   "cell_type": "code",
   "execution_count": 89,
   "id": "bbc95d8c",
   "metadata": {
    "scrolled": true
   },
   "outputs": [
    {
     "data": {
      "text/plain": [
       "array([[[1.56457785, 1.06990637, 1.87150337, 1.9434349 , 1.35545132],\n",
       "        [1.04944452, 1.88417304, 1.87780775, 1.60052069, 1.60098523],\n",
       "        [1.78499745, 1.05228076, 1.81801644, 1.5448285 , 1.36790447]],\n",
       "\n",
       "       [[1.85729512, 1.80656854, 1.70111156, 1.70768835, 1.34415386],\n",
       "        [1.23266503, 1.95932474, 1.53515802, 1.57938362, 1.84888567],\n",
       "        [1.81534694, 1.41481865, 1.70052343, 1.75097424, 1.83843737]]])"
      ]
     },
     "execution_count": 89,
     "metadata": {},
     "output_type": "execute_result"
    }
   ],
   "source": [
    "d = a + c\n",
    "d"
   ]
  },
  {
   "cell_type": "code",
   "execution_count": 88,
   "id": "7d93c146",
   "metadata": {
    "scrolled": true
   },
   "outputs": [
    {
     "data": {
      "text/plain": [
       "array([[[0.56457785, 0.06990637, 0.87150337, 0.9434349 , 0.35545132],\n",
       "        [0.04944452, 0.88417304, 0.87780775, 0.60052069, 0.60098523],\n",
       "        [0.78499745, 0.05228076, 0.81801644, 0.5448285 , 0.36790447]],\n",
       "\n",
       "       [[0.85729512, 0.80656854, 0.70111156, 0.70768835, 0.34415386],\n",
       "        [0.23266503, 0.95932474, 0.53515802, 0.57938362, 0.84888567],\n",
       "        [0.81534694, 0.41481865, 0.70052343, 0.75097424, 0.83843737]]])"
      ]
     },
     "execution_count": 88,
     "metadata": {},
     "output_type": "execute_result"
    }
   ],
   "source": [
    "a"
   ]
  },
  {
   "cell_type": "code",
   "execution_count": 90,
   "id": "d20a2c79",
   "metadata": {},
   "outputs": [
    {
     "data": {
      "text/plain": [
       "array([[[1.56457785, 1.06990637, 1.87150337, 1.9434349 , 1.35545132],\n",
       "        [1.04944452, 1.88417304, 1.87780775, 1.60052069, 1.60098523],\n",
       "        [1.78499745, 1.05228076, 1.81801644, 1.5448285 , 1.36790447]],\n",
       "\n",
       "       [[1.85729512, 1.80656854, 1.70111156, 1.70768835, 1.34415386],\n",
       "        [1.23266503, 1.95932474, 1.53515802, 1.57938362, 1.84888567],\n",
       "        [1.81534694, 1.41481865, 1.70052343, 1.75097424, 1.83843737]]])"
      ]
     },
     "execution_count": 90,
     "metadata": {},
     "output_type": "execute_result"
    }
   ],
   "source": [
    "d"
   ]
  },
  {
   "cell_type": "code",
   "execution_count": 87,
   "id": "4f7d7959",
   "metadata": {},
   "outputs": [
    {
     "ename": "SyntaxError",
     "evalue": "invalid syntax (4099790107.py, line 1)",
     "output_type": "error",
     "traceback": [
      "\u001b[1;36m  Input \u001b[1;32mIn [87]\u001b[1;36m\u001b[0m\n\u001b[1;33m    Ahora se han sumado porque tienen las mismas dimensiones, y se suman por por punto de fila y columna , no por total.\u001b[0m\n\u001b[1;37m          ^\u001b[0m\n\u001b[1;31mSyntaxError\u001b[0m\u001b[1;31m:\u001b[0m invalid syntax\n"
     ]
    }
   ],
   "source": [
    "Ahora se han sumado porque tienen las mismas dimensiones, y se suman por por punto de fila y columna , no por total."
   ]
  },
  {
   "cell_type": "markdown",
   "id": "4880d10f",
   "metadata": {},
   "source": [
    "\n",
    "12. Multiply a and c. Assign the result to e.\n",
    "\n",
    "\n",
    "\n",
    "13. Does e equal to a? Why or why not?\n",
    "\n",
    "\n",
    "\n",
    "\n",
    "14. Identify the max, min, and mean values in d. Assign those values to variables \"d_max\", \"d_min\", and \"d_mean\"\n",
    "\n",
    "\n",
    "\n",
    "\n",
    "15. Now we want to label the values in d. First create an empty array \"f\" with the same shape (i.e. 2x3x5) as d using `np.empty`.\n"
   ]
  },
  {
   "cell_type": "code",
   "execution_count": 29,
   "id": "f95bc36b",
   "metadata": {
    "scrolled": true
   },
   "outputs": [
    {
     "data": {
      "text/plain": [
       "array([[[ True,  True,  True,  True,  True],\n",
       "        [ True,  True,  True,  True,  True],\n",
       "        [ True,  True,  True,  True,  True]],\n",
       "\n",
       "       [[ True,  True,  True,  True,  True],\n",
       "        [ True,  True,  True,  True,  True],\n",
       "        [ True,  True,  True,  True,  True]]])"
      ]
     },
     "execution_count": 29,
     "metadata": {},
     "output_type": "execute_result"
    }
   ],
   "source": [
    "e = a*c\n",
    "e == a\n",
    "#Si, tiene el mismo valor porque todos los valores de c tienen el valor 1.\n"
   ]
  },
  {
   "cell_type": "code",
   "execution_count": 93,
   "id": "b22aae68",
   "metadata": {},
   "outputs": [
    {
     "data": {
      "text/plain": [
       "1.9593247415833708"
      ]
     },
     "execution_count": 93,
     "metadata": {},
     "output_type": "execute_result"
    }
   ],
   "source": [
    "d_max=d.max()\n",
    "d_max"
   ]
  },
  {
   "cell_type": "code",
   "execution_count": 94,
   "id": "84a2e17c",
   "metadata": {},
   "outputs": [
    {
     "data": {
      "text/plain": [
       "1.0494445175246252"
      ]
     },
     "execution_count": 94,
     "metadata": {},
     "output_type": "execute_result"
    }
   ],
   "source": [
    "d_min=d.min()\n",
    "d_min"
   ]
  },
  {
   "cell_type": "code",
   "execution_count": 95,
   "id": "56683b62",
   "metadata": {},
   "outputs": [
    {
     "data": {
      "text/plain": [
       "1.6159389260069796"
      ]
     },
     "execution_count": 95,
     "metadata": {},
     "output_type": "execute_result"
    }
   ],
   "source": [
    "d_mean=d.mean()\n",
    "d_mean"
   ]
  },
  {
   "cell_type": "code",
   "execution_count": 96,
   "id": "a8f0c9e0",
   "metadata": {
    "scrolled": true
   },
   "outputs": [
    {
     "name": "stdout",
     "output_type": "stream",
     "text": [
      "[[[1.56457785 1.06990637 1.87150337 1.9434349  1.35545132]\n",
      "  [1.04944452 1.88417304 1.87780775 1.60052069 1.60098523]\n",
      "  [1.78499745 1.05228076 1.81801644 1.5448285  1.36790447]]\n",
      "\n",
      " [[1.85729512 1.80656854 1.70111156 1.70768835 1.34415386]\n",
      "  [1.23266503 1.95932474 1.53515802 1.57938362 1.84888567]\n",
      "  [1.81534694 1.41481865 1.70052343 1.75097424 1.83843737]]]\n"
     ]
    }
   ],
   "source": [
    "f=np.empty((2,3,5))\n",
    "print(f)\n"
   ]
  },
  {
   "cell_type": "code",
   "execution_count": null,
   "id": "b584c6fe",
   "metadata": {},
   "outputs": [],
   "source": [
    "#16. Populate the values in f. For each value in d, if it's larger than d_min but smaller than d_mean, assign 25 to the corresponding value in f.\n",
    "If a value in d is larger than d_mean but smaller than d_max, assign 75 to the corresponding value in f.\n",
    "If a value equals to d_mean, assign 50 to the corresponding value in f.\n",
    "Assign 0 to the corresponding value(s) in f for d_min in d.\n",
    "Assign 100 to the corresponding value(s) in f for d_max in d.\n",
    "In the end, f should have only the following values: 0, 25, 50, 75, and 100.\n",
    "Note: you don't have to use Numpy in this question."
   ]
  },
  {
   "cell_type": "code",
   "execution_count": 119,
   "id": "55a35c02",
   "metadata": {},
   "outputs": [],
   "source": [
    "for i in range(len(d)):\n",
    "    for j in range(len(d[i])):\n",
    "        for k in range(len(d[i][j])):\n",
    "            if d[i][j][k] ==d.max():\n",
    "                f[i][j][k]= 100\n",
    "            elif d[i][j][k] < d.max() and d[i][j][k] >d.mean() :\n",
    "                f[i][j][k]= 75\n",
    "            elif d[i][j][k] == d.mean():\n",
    "                f[i][j][k]= 50\n",
    "            elif d[i][j][k] < d.mean() and d[i][j][k]> d.min():\n",
    "                f[i][j][k]= 25\n",
    "            elif d[i][j][k] == d.min():\n",
    "                f[i][j][k]=0\n",
    "              \n",
    "            "
   ]
  },
  {
   "cell_type": "code",
   "execution_count": 120,
   "id": "b0276bbc",
   "metadata": {},
   "outputs": [
    {
     "data": {
      "text/plain": [
       "array([[[ 25.,  25., 100.,  25.,  25.],\n",
       "        [  0.,  25.,  25.,  25.,  25.],\n",
       "        [ 25.,  25.,  25.,  25.,  25.]],\n",
       "\n",
       "       [[ 75.,  75.,  75.,  75.,  75.],\n",
       "        [ 75.,  25.,  25.,  25.,  25.],\n",
       "        [ 25.,  25.,  25.,  25.,  25.]]])"
      ]
     },
     "execution_count": 120,
     "metadata": {},
     "output_type": "execute_result"
    }
   ],
   "source": [
    "f"
   ]
  },
  {
   "cell_type": "code",
   "execution_count": null,
   "id": "99b59679",
   "metadata": {},
   "outputs": [],
   "source": [
    "#18. Bonus question: instead of using numbers (i.e. 0, 25, 50, 75, and 100), how to use string values \n",
    "(\"A\", \"B\", \"C\", \"D\", and \"E\") to label the array elements? You are expecting the result to be:\n",
    "array([[[ 'D',  'D',  'D',  'B',  'D'],\n",
    "        [ 'D',  'D',  'B',  'B',  'B'],\n",
    "        [ 'D',  'B',  'D',  'D',  'D']],\n",
    "\n",
    "       [[ 'B',  'B',  'B',  'B',  'E'],\n",
    "        [ 'D',  'D',  'D',  'D',  'D'],\n",
    "        [ 'B',  'D',   'A',  'D', 'D']]])\n",
    "Again, you don't need Numpy in this question."
   ]
  },
  {
   "cell_type": "code",
   "execution_count": 128,
   "id": "8c682867",
   "metadata": {},
   "outputs": [],
   "source": [
    "g=f.astype(str)\n"
   ]
  },
  {
   "cell_type": "code",
   "execution_count": 130,
   "id": "eb9b3d7d",
   "metadata": {},
   "outputs": [],
   "source": [
    "for i in range(len(d)):\n",
    "    for j in range(len(d[i])):\n",
    "        for k in range(len(d[i][j])):\n",
    "            if d[i][j][k] ==d.max():\n",
    "                g[i][j][k]= 'A'\n",
    "            elif d[i][j][k] < d.max() and d[i][j][k] >d.mean() :\n",
    "                g[i][j][k]= 'B'\n",
    "            elif d[i][j][k] == d.mean():\n",
    "                g[i][j][k]= 'C'\n",
    "            elif d[i][j][k] < d.mean() and d[i][j][k]> d.min():\n",
    "                g[i][j][k]= 'D'\n",
    "            elif d[i][j][k] == d.min():\n",
    "                g[i][j][k]= 'F'"
   ]
  },
  {
   "cell_type": "code",
   "execution_count": 131,
   "id": "36853fa0",
   "metadata": {},
   "outputs": [
    {
     "data": {
      "text/plain": [
       "array([[['D', 'D', 'A', 'D', 'D'],\n",
       "        ['F', 'D', 'D', 'D', 'D'],\n",
       "        ['D', 'D', 'D', 'D', 'D']],\n",
       "\n",
       "       [['B', 'B', 'B', 'B', 'B'],\n",
       "        ['B', 'D', 'D', 'D', 'D'],\n",
       "        ['D', 'D', 'D', 'D', 'D']]], dtype='<U32')"
      ]
     },
     "execution_count": 131,
     "metadata": {},
     "output_type": "execute_result"
    }
   ],
   "source": [
    "g"
   ]
  },
  {
   "cell_type": "code",
   "execution_count": null,
   "id": "e3765c06",
   "metadata": {},
   "outputs": [],
   "source": []
  }
 ],
 "metadata": {
  "kernelspec": {
   "display_name": "Python 3 (ipykernel)",
   "language": "python",
   "name": "python3"
  },
  "language_info": {
   "codemirror_mode": {
    "name": "ipython",
    "version": 3
   },
   "file_extension": ".py",
   "mimetype": "text/x-python",
   "name": "python",
   "nbconvert_exporter": "python",
   "pygments_lexer": "ipython3",
   "version": "3.8.13"
  }
 },
 "nbformat": 4,
 "nbformat_minor": 5
}
